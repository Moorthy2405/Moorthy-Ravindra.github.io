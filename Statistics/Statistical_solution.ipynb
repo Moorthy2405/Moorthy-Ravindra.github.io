{
 "cells": [
  {
   "cell_type": "markdown",
   "id": "cc263720",
   "metadata": {},
   "source": [
    "The data set given for the project is from \" https://archive-beta.ics.uci.edu/ml/datasets/productivity+prediction+of+garment+employees \" \n",
    "and is cited as Productivity Prediction of Garment Employees. (2020). UCI Machine Learning Repository. \n",
    "The data file is attached as csv file. The following are details being provided . The data contains details on actual productivty of a garment industry, the data has been recorded on a day to day basis from the year 2015 to almost year end of 2015. The data set at first needs to be examined and the structure of the data set needs to be understood. The data has been recorded in terms of the following details\n",
    "Date \n",
    "Quarter (Four Quarters)\n",
    "Department (Sewing and Finishing)\n",
    "Day (Please note the way data is recorded is that based on a dept and productivity is recorded for various lines in each dept, hence you would find multiple productivity recorded for each combination of vairables such as team, dept, smv, date)\n",
    "Team \n",
    "Targeted_Producitivity (Target which needs to be achieved)\n",
    "SMV (Standard Minute Value) : Standard time for a Task in this case you can take standard time to complete a garment \n",
    "WIP (Work in progress)\n",
    "Over_time\n",
    "Incentive \n",
    "Idle_time\n",
    "Idle_men (Idle workers)\n",
    "no_of_style_change\n",
    "no_of_workers\n",
    "Actual_Producitivity\n",
    "\n",
    "The aim is of this project is to obtain an understanding of the data and decipher the relationship among the variables, understanding what possible variables can affect producivity which can be whether overtime or team size or number of worker or department type or a day (like monday ect...) ect.. have an effect. "
   ]
  },
  {
   "cell_type": "code",
   "execution_count": null,
   "id": "796c912d",
   "metadata": {},
   "outputs": [],
   "source": [
    "import numpy as np\n",
    "import pandas as pd\n",
    "import seaborn as sns\n",
    "import matplotlib.pyplot as plt\n",
    "import scipy.stats as stats\n",
    "from scipy.stats import f_oneway\n",
    "# import statsmodels\n",
    "import statsmodels.api as sm\n",
    "from statsmodels.formula.api import ols\n",
    "from statsmodels.stats.anova import anova_lm\n",
    "# import the functions to perform Chi-square tests\n",
    "from scipy.stats import chi2_contingency\n",
    "from scipy.stats import chi2\n",
    "from scipy.stats import chisquare"
   ]
  },
  {
   "cell_type": "markdown",
   "id": "60ef4eb2",
   "metadata": {},
   "source": [
    "Exploratory Data Analysis & Descriptive Statistics \n",
    "\n",
    "1. Basic Summary statistics of the data for the numerical variables \n",
    "2. basic Summary of the data for the number of working days, count of quarters in the year\n",
    "3. Mean and standard deviation of actual producivity for every quarter and Histogram plot of actual productivity based on every quarter and conclusion accordingly\n",
    "4. Number count for sewing and finishing department \n",
    "5. Mean and standard deviation of actual producivity for sewing and finishing Histogram plot of actual productivity based on both department and conclusion accordingly\n",
    "6. Number count for  teams, smv across the year\n",
    "7. Histogram & Box plot of actual productivity based on all working days, team size, quarterts and  Conclude accordingly \n",
    "8. Find correlation matrix and draw heat map for all variables\n",
    "9. Conclude (Is the company able to meet target, are they giving incentives based on producitivity, does overtime have any effect on productivity)\n",
    "10. Find the correlation between actual and target productivity for every quarter and for every department. What do you conclude\n",
    "11. Based on the above details of EDA and Descriptive statisitcs analysis what would you say could be the possible factors which can affect producitivity. "
   ]
  },
  {
   "cell_type": "code",
   "execution_count": 12,
   "id": "8918e881",
   "metadata": {},
   "outputs": [
    {
     "data": {
      "application/javascript": [
       "\n",
       "        if (window._pyforest_update_imports_cell) { window._pyforest_update_imports_cell('import seaborn as sns\\nimport pandas as pd'); }\n",
       "    "
      ],
      "text/plain": [
       "<IPython.core.display.Javascript object>"
      ]
     },
     "metadata": {},
     "output_type": "display_data"
    },
    {
     "data": {
      "text/html": [
       "<div>\n",
       "<style scoped>\n",
       "    .dataframe tbody tr th:only-of-type {\n",
       "        vertical-align: middle;\n",
       "    }\n",
       "\n",
       "    .dataframe tbody tr th {\n",
       "        vertical-align: top;\n",
       "    }\n",
       "\n",
       "    .dataframe thead th {\n",
       "        text-align: right;\n",
       "    }\n",
       "</style>\n",
       "<table border=\"1\" class=\"dataframe\">\n",
       "  <thead>\n",
       "    <tr style=\"text-align: right;\">\n",
       "      <th></th>\n",
       "      <th>date</th>\n",
       "      <th>quarter</th>\n",
       "      <th>department</th>\n",
       "      <th>day</th>\n",
       "      <th>team</th>\n",
       "      <th>targeted_productivity</th>\n",
       "      <th>smv</th>\n",
       "      <th>wip</th>\n",
       "      <th>over_time</th>\n",
       "      <th>incentive</th>\n",
       "      <th>idle_time</th>\n",
       "      <th>idle_men</th>\n",
       "      <th>no_of_style_change</th>\n",
       "      <th>no_of_workers</th>\n",
       "      <th>actual_productivity</th>\n",
       "    </tr>\n",
       "  </thead>\n",
       "  <tbody>\n",
       "    <tr>\n",
       "      <th>0</th>\n",
       "      <td>01-01-2015</td>\n",
       "      <td>Quarter1</td>\n",
       "      <td>sewing</td>\n",
       "      <td>Thursday</td>\n",
       "      <td>8</td>\n",
       "      <td>0.80</td>\n",
       "      <td>26.16</td>\n",
       "      <td>1108.0</td>\n",
       "      <td>7080</td>\n",
       "      <td>98</td>\n",
       "      <td>0.0</td>\n",
       "      <td>0</td>\n",
       "      <td>0</td>\n",
       "      <td>59.0</td>\n",
       "      <td>0.940725</td>\n",
       "    </tr>\n",
       "    <tr>\n",
       "      <th>1</th>\n",
       "      <td>01-01-2015</td>\n",
       "      <td>Quarter1</td>\n",
       "      <td>finishing</td>\n",
       "      <td>Thursday</td>\n",
       "      <td>1</td>\n",
       "      <td>0.75</td>\n",
       "      <td>3.94</td>\n",
       "      <td>NaN</td>\n",
       "      <td>960</td>\n",
       "      <td>0</td>\n",
       "      <td>0.0</td>\n",
       "      <td>0</td>\n",
       "      <td>0</td>\n",
       "      <td>8.0</td>\n",
       "      <td>0.886500</td>\n",
       "    </tr>\n",
       "    <tr>\n",
       "      <th>2</th>\n",
       "      <td>01-01-2015</td>\n",
       "      <td>Quarter1</td>\n",
       "      <td>sewing</td>\n",
       "      <td>Thursday</td>\n",
       "      <td>11</td>\n",
       "      <td>0.80</td>\n",
       "      <td>11.41</td>\n",
       "      <td>968.0</td>\n",
       "      <td>3660</td>\n",
       "      <td>50</td>\n",
       "      <td>0.0</td>\n",
       "      <td>0</td>\n",
       "      <td>0</td>\n",
       "      <td>30.5</td>\n",
       "      <td>0.800570</td>\n",
       "    </tr>\n",
       "    <tr>\n",
       "      <th>3</th>\n",
       "      <td>01-01-2015</td>\n",
       "      <td>Quarter1</td>\n",
       "      <td>sewing</td>\n",
       "      <td>Thursday</td>\n",
       "      <td>12</td>\n",
       "      <td>0.80</td>\n",
       "      <td>11.41</td>\n",
       "      <td>968.0</td>\n",
       "      <td>3660</td>\n",
       "      <td>50</td>\n",
       "      <td>0.0</td>\n",
       "      <td>0</td>\n",
       "      <td>0</td>\n",
       "      <td>30.5</td>\n",
       "      <td>0.800570</td>\n",
       "    </tr>\n",
       "    <tr>\n",
       "      <th>4</th>\n",
       "      <td>01-01-2015</td>\n",
       "      <td>Quarter1</td>\n",
       "      <td>sewing</td>\n",
       "      <td>Thursday</td>\n",
       "      <td>6</td>\n",
       "      <td>0.80</td>\n",
       "      <td>25.90</td>\n",
       "      <td>1170.0</td>\n",
       "      <td>1920</td>\n",
       "      <td>50</td>\n",
       "      <td>0.0</td>\n",
       "      <td>0</td>\n",
       "      <td>0</td>\n",
       "      <td>56.0</td>\n",
       "      <td>0.800382</td>\n",
       "    </tr>\n",
       "    <tr>\n",
       "      <th>...</th>\n",
       "      <td>...</td>\n",
       "      <td>...</td>\n",
       "      <td>...</td>\n",
       "      <td>...</td>\n",
       "      <td>...</td>\n",
       "      <td>...</td>\n",
       "      <td>...</td>\n",
       "      <td>...</td>\n",
       "      <td>...</td>\n",
       "      <td>...</td>\n",
       "      <td>...</td>\n",
       "      <td>...</td>\n",
       "      <td>...</td>\n",
       "      <td>...</td>\n",
       "      <td>...</td>\n",
       "    </tr>\n",
       "    <tr>\n",
       "      <th>1192</th>\n",
       "      <td>03-11-2015</td>\n",
       "      <td>Quarter2</td>\n",
       "      <td>finishing</td>\n",
       "      <td>Wednesday</td>\n",
       "      <td>10</td>\n",
       "      <td>0.75</td>\n",
       "      <td>2.90</td>\n",
       "      <td>NaN</td>\n",
       "      <td>960</td>\n",
       "      <td>0</td>\n",
       "      <td>0.0</td>\n",
       "      <td>0</td>\n",
       "      <td>0</td>\n",
       "      <td>8.0</td>\n",
       "      <td>0.628333</td>\n",
       "    </tr>\n",
       "    <tr>\n",
       "      <th>1193</th>\n",
       "      <td>03-11-2015</td>\n",
       "      <td>Quarter2</td>\n",
       "      <td>finishing</td>\n",
       "      <td>Wednesday</td>\n",
       "      <td>8</td>\n",
       "      <td>0.70</td>\n",
       "      <td>3.90</td>\n",
       "      <td>NaN</td>\n",
       "      <td>960</td>\n",
       "      <td>0</td>\n",
       "      <td>0.0</td>\n",
       "      <td>0</td>\n",
       "      <td>0</td>\n",
       "      <td>8.0</td>\n",
       "      <td>0.625625</td>\n",
       "    </tr>\n",
       "    <tr>\n",
       "      <th>1194</th>\n",
       "      <td>03-11-2015</td>\n",
       "      <td>Quarter2</td>\n",
       "      <td>finishing</td>\n",
       "      <td>Wednesday</td>\n",
       "      <td>7</td>\n",
       "      <td>0.65</td>\n",
       "      <td>3.90</td>\n",
       "      <td>NaN</td>\n",
       "      <td>960</td>\n",
       "      <td>0</td>\n",
       "      <td>0.0</td>\n",
       "      <td>0</td>\n",
       "      <td>0</td>\n",
       "      <td>8.0</td>\n",
       "      <td>0.625625</td>\n",
       "    </tr>\n",
       "    <tr>\n",
       "      <th>1195</th>\n",
       "      <td>03-11-2015</td>\n",
       "      <td>Quarter2</td>\n",
       "      <td>finishing</td>\n",
       "      <td>Wednesday</td>\n",
       "      <td>9</td>\n",
       "      <td>0.75</td>\n",
       "      <td>2.90</td>\n",
       "      <td>NaN</td>\n",
       "      <td>1800</td>\n",
       "      <td>0</td>\n",
       "      <td>0.0</td>\n",
       "      <td>0</td>\n",
       "      <td>0</td>\n",
       "      <td>15.0</td>\n",
       "      <td>0.505889</td>\n",
       "    </tr>\n",
       "    <tr>\n",
       "      <th>1196</th>\n",
       "      <td>03-11-2015</td>\n",
       "      <td>Quarter2</td>\n",
       "      <td>finishing</td>\n",
       "      <td>Wednesday</td>\n",
       "      <td>6</td>\n",
       "      <td>0.70</td>\n",
       "      <td>2.90</td>\n",
       "      <td>NaN</td>\n",
       "      <td>720</td>\n",
       "      <td>0</td>\n",
       "      <td>0.0</td>\n",
       "      <td>0</td>\n",
       "      <td>0</td>\n",
       "      <td>6.0</td>\n",
       "      <td>0.394722</td>\n",
       "    </tr>\n",
       "  </tbody>\n",
       "</table>\n",
       "<p>1197 rows × 15 columns</p>\n",
       "</div>"
      ],
      "text/plain": [
       "            date   quarter department        day  team  targeted_productivity  \\\n",
       "0     01-01-2015  Quarter1     sewing   Thursday     8                   0.80   \n",
       "1     01-01-2015  Quarter1  finishing   Thursday     1                   0.75   \n",
       "2     01-01-2015  Quarter1     sewing   Thursday    11                   0.80   \n",
       "3     01-01-2015  Quarter1     sewing   Thursday    12                   0.80   \n",
       "4     01-01-2015  Quarter1     sewing   Thursday     6                   0.80   \n",
       "...          ...       ...        ...        ...   ...                    ...   \n",
       "1192  03-11-2015  Quarter2  finishing  Wednesday    10                   0.75   \n",
       "1193  03-11-2015  Quarter2  finishing  Wednesday     8                   0.70   \n",
       "1194  03-11-2015  Quarter2  finishing  Wednesday     7                   0.65   \n",
       "1195  03-11-2015  Quarter2  finishing  Wednesday     9                   0.75   \n",
       "1196  03-11-2015  Quarter2  finishing  Wednesday     6                   0.70   \n",
       "\n",
       "        smv     wip  over_time  incentive  idle_time  idle_men  \\\n",
       "0     26.16  1108.0       7080         98        0.0         0   \n",
       "1      3.94     NaN        960          0        0.0         0   \n",
       "2     11.41   968.0       3660         50        0.0         0   \n",
       "3     11.41   968.0       3660         50        0.0         0   \n",
       "4     25.90  1170.0       1920         50        0.0         0   \n",
       "...     ...     ...        ...        ...        ...       ...   \n",
       "1192   2.90     NaN        960          0        0.0         0   \n",
       "1193   3.90     NaN        960          0        0.0         0   \n",
       "1194   3.90     NaN        960          0        0.0         0   \n",
       "1195   2.90     NaN       1800          0        0.0         0   \n",
       "1196   2.90     NaN        720          0        0.0         0   \n",
       "\n",
       "      no_of_style_change  no_of_workers  actual_productivity  \n",
       "0                      0           59.0             0.940725  \n",
       "1                      0            8.0             0.886500  \n",
       "2                      0           30.5             0.800570  \n",
       "3                      0           30.5             0.800570  \n",
       "4                      0           56.0             0.800382  \n",
       "...                  ...            ...                  ...  \n",
       "1192                   0            8.0             0.628333  \n",
       "1193                   0            8.0             0.625625  \n",
       "1194                   0            8.0             0.625625  \n",
       "1195                   0           15.0             0.505889  \n",
       "1196                   0            6.0             0.394722  \n",
       "\n",
       "[1197 rows x 15 columns]"
      ]
     },
     "execution_count": 12,
     "metadata": {},
     "output_type": "execute_result"
    }
   ],
   "source": [
    "df=pd.read_csv('garments_worker_productivity+29.csv')\n",
    "df"
   ]
  },
  {
   "cell_type": "code",
   "execution_count": 13,
   "id": "b481e77b",
   "metadata": {},
   "outputs": [
    {
     "data": {
      "text/html": [
       "<div>\n",
       "<style scoped>\n",
       "    .dataframe tbody tr th:only-of-type {\n",
       "        vertical-align: middle;\n",
       "    }\n",
       "\n",
       "    .dataframe tbody tr th {\n",
       "        vertical-align: top;\n",
       "    }\n",
       "\n",
       "    .dataframe thead th {\n",
       "        text-align: right;\n",
       "    }\n",
       "</style>\n",
       "<table border=\"1\" class=\"dataframe\">\n",
       "  <thead>\n",
       "    <tr style=\"text-align: right;\">\n",
       "      <th></th>\n",
       "      <th>team</th>\n",
       "      <th>targeted_productivity</th>\n",
       "      <th>smv</th>\n",
       "      <th>wip</th>\n",
       "      <th>over_time</th>\n",
       "      <th>incentive</th>\n",
       "      <th>idle_time</th>\n",
       "      <th>idle_men</th>\n",
       "      <th>no_of_style_change</th>\n",
       "      <th>no_of_workers</th>\n",
       "      <th>actual_productivity</th>\n",
       "    </tr>\n",
       "  </thead>\n",
       "  <tbody>\n",
       "    <tr>\n",
       "      <th>count</th>\n",
       "      <td>1197.000000</td>\n",
       "      <td>1197.000000</td>\n",
       "      <td>1197.000000</td>\n",
       "      <td>691.000000</td>\n",
       "      <td>1197.000000</td>\n",
       "      <td>1197.000000</td>\n",
       "      <td>1197.000000</td>\n",
       "      <td>1197.000000</td>\n",
       "      <td>1197.000000</td>\n",
       "      <td>1197.000000</td>\n",
       "      <td>1197.000000</td>\n",
       "    </tr>\n",
       "    <tr>\n",
       "      <th>mean</th>\n",
       "      <td>6.426901</td>\n",
       "      <td>0.729632</td>\n",
       "      <td>15.062172</td>\n",
       "      <td>1190.465991</td>\n",
       "      <td>4567.460317</td>\n",
       "      <td>38.210526</td>\n",
       "      <td>0.730159</td>\n",
       "      <td>0.369256</td>\n",
       "      <td>0.150376</td>\n",
       "      <td>34.609858</td>\n",
       "      <td>0.735091</td>\n",
       "    </tr>\n",
       "    <tr>\n",
       "      <th>std</th>\n",
       "      <td>3.463963</td>\n",
       "      <td>0.097891</td>\n",
       "      <td>10.943219</td>\n",
       "      <td>1837.455001</td>\n",
       "      <td>3348.823563</td>\n",
       "      <td>160.182643</td>\n",
       "      <td>12.709757</td>\n",
       "      <td>3.268987</td>\n",
       "      <td>0.427848</td>\n",
       "      <td>22.197687</td>\n",
       "      <td>0.174488</td>\n",
       "    </tr>\n",
       "    <tr>\n",
       "      <th>min</th>\n",
       "      <td>1.000000</td>\n",
       "      <td>0.070000</td>\n",
       "      <td>2.900000</td>\n",
       "      <td>7.000000</td>\n",
       "      <td>0.000000</td>\n",
       "      <td>0.000000</td>\n",
       "      <td>0.000000</td>\n",
       "      <td>0.000000</td>\n",
       "      <td>0.000000</td>\n",
       "      <td>2.000000</td>\n",
       "      <td>0.233705</td>\n",
       "    </tr>\n",
       "    <tr>\n",
       "      <th>25%</th>\n",
       "      <td>3.000000</td>\n",
       "      <td>0.700000</td>\n",
       "      <td>3.940000</td>\n",
       "      <td>774.500000</td>\n",
       "      <td>1440.000000</td>\n",
       "      <td>0.000000</td>\n",
       "      <td>0.000000</td>\n",
       "      <td>0.000000</td>\n",
       "      <td>0.000000</td>\n",
       "      <td>9.000000</td>\n",
       "      <td>0.650307</td>\n",
       "    </tr>\n",
       "    <tr>\n",
       "      <th>50%</th>\n",
       "      <td>6.000000</td>\n",
       "      <td>0.750000</td>\n",
       "      <td>15.260000</td>\n",
       "      <td>1039.000000</td>\n",
       "      <td>3960.000000</td>\n",
       "      <td>0.000000</td>\n",
       "      <td>0.000000</td>\n",
       "      <td>0.000000</td>\n",
       "      <td>0.000000</td>\n",
       "      <td>34.000000</td>\n",
       "      <td>0.773333</td>\n",
       "    </tr>\n",
       "    <tr>\n",
       "      <th>75%</th>\n",
       "      <td>9.000000</td>\n",
       "      <td>0.800000</td>\n",
       "      <td>24.260000</td>\n",
       "      <td>1252.500000</td>\n",
       "      <td>6960.000000</td>\n",
       "      <td>50.000000</td>\n",
       "      <td>0.000000</td>\n",
       "      <td>0.000000</td>\n",
       "      <td>0.000000</td>\n",
       "      <td>57.000000</td>\n",
       "      <td>0.850253</td>\n",
       "    </tr>\n",
       "    <tr>\n",
       "      <th>max</th>\n",
       "      <td>12.000000</td>\n",
       "      <td>0.800000</td>\n",
       "      <td>54.560000</td>\n",
       "      <td>23122.000000</td>\n",
       "      <td>25920.000000</td>\n",
       "      <td>3600.000000</td>\n",
       "      <td>300.000000</td>\n",
       "      <td>45.000000</td>\n",
       "      <td>2.000000</td>\n",
       "      <td>89.000000</td>\n",
       "      <td>1.120437</td>\n",
       "    </tr>\n",
       "  </tbody>\n",
       "</table>\n",
       "</div>"
      ],
      "text/plain": [
       "              team  targeted_productivity          smv           wip  \\\n",
       "count  1197.000000            1197.000000  1197.000000    691.000000   \n",
       "mean      6.426901               0.729632    15.062172   1190.465991   \n",
       "std       3.463963               0.097891    10.943219   1837.455001   \n",
       "min       1.000000               0.070000     2.900000      7.000000   \n",
       "25%       3.000000               0.700000     3.940000    774.500000   \n",
       "50%       6.000000               0.750000    15.260000   1039.000000   \n",
       "75%       9.000000               0.800000    24.260000   1252.500000   \n",
       "max      12.000000               0.800000    54.560000  23122.000000   \n",
       "\n",
       "          over_time    incentive    idle_time     idle_men  \\\n",
       "count   1197.000000  1197.000000  1197.000000  1197.000000   \n",
       "mean    4567.460317    38.210526     0.730159     0.369256   \n",
       "std     3348.823563   160.182643    12.709757     3.268987   \n",
       "min        0.000000     0.000000     0.000000     0.000000   \n",
       "25%     1440.000000     0.000000     0.000000     0.000000   \n",
       "50%     3960.000000     0.000000     0.000000     0.000000   \n",
       "75%     6960.000000    50.000000     0.000000     0.000000   \n",
       "max    25920.000000  3600.000000   300.000000    45.000000   \n",
       "\n",
       "       no_of_style_change  no_of_workers  actual_productivity  \n",
       "count         1197.000000    1197.000000          1197.000000  \n",
       "mean             0.150376      34.609858             0.735091  \n",
       "std              0.427848      22.197687             0.174488  \n",
       "min              0.000000       2.000000             0.233705  \n",
       "25%              0.000000       9.000000             0.650307  \n",
       "50%              0.000000      34.000000             0.773333  \n",
       "75%              0.000000      57.000000             0.850253  \n",
       "max              2.000000      89.000000             1.120437  "
      ]
     },
     "execution_count": 13,
     "metadata": {},
     "output_type": "execute_result"
    }
   ],
   "source": [
    "#1\n",
    "df.describe()\n"
   ]
  },
  {
   "cell_type": "code",
   "execution_count": 14,
   "id": "a886427d",
   "metadata": {},
   "outputs": [
    {
     "name": "stdout",
     "output_type": "stream",
     "text": [
      "count of quarters in the year: 5\n"
     ]
    },
    {
     "data": {
      "text/plain": [
       "array(['Quarter1', 'Quarter2', 'Quarter3', 'Quarter4', 'Quarter5'],\n",
       "      dtype=object)"
      ]
     },
     "execution_count": 14,
     "metadata": {},
     "output_type": "execute_result"
    }
   ],
   "source": [
    "#2 basic Summary of the data for the number of working days, count of quarters in the year\n",
    "df1=df.quarter.unique()\n",
    "print(f'count of quarters in the year: {len(df1)}')\n",
    "df1"
   ]
  },
  {
   "cell_type": "code",
   "execution_count": 15,
   "id": "f58c9687",
   "metadata": {
    "scrolled": true
   },
   "outputs": [
    {
     "name": "stdout",
     "output_type": "stream",
     "text": [
      "              mean       std\n",
      "quarter                     \n",
      "Quarter1  0.751560  0.161318\n",
      "Quarter2  0.743710  0.171114\n",
      "Quarter3  0.704759  0.175614\n",
      "Quarter4  0.709067  0.185983\n",
      "Quarter5  0.826177  0.183851\n"
     ]
    },
    {
     "data": {
      "application/javascript": [
       "\n",
       "        if (window._pyforest_update_imports_cell) { window._pyforest_update_imports_cell('import seaborn as sns\\nimport pandas as pd'); }\n",
       "    "
      ],
      "text/plain": [
       "<IPython.core.display.Javascript object>"
      ]
     },
     "metadata": {},
     "output_type": "display_data"
    },
    {
     "data": {
      "text/plain": [
       "<Axes: xlabel='quarter', ylabel='actual_productivity'>"
      ]
     },
     "execution_count": 15,
     "metadata": {},
     "output_type": "execute_result"
    },
    {
     "data": {
      "image/png": "[encoded data removed]",
      "text/plain": [
       "<Figure size 640x480 with 1 Axes>"
      ]
     },
     "metadata": {},
     "output_type": "display_data"
    }
   ],
   "source": [
    "#3 Mean and standard deviation of actual producivity for every quarter and Histogram plot of actual productivity based on every quarter and conclusion accordingly\n",
    "\n",
    "data1=df.groupby('quarter')['actual_productivity'].agg(['mean', 'std'])\n",
    "print(data1)\n",
    "sns.histplot(data=df,x='quarter',y='actual_productivity',bins=10)"
   ]
  },
  {
   "cell_type": "code",
   "execution_count": 52,
   "id": "fd89e0ee",
   "metadata": {},
   "outputs": [
    {
     "name": "stdout",
     "output_type": "stream",
     "text": [
      "count of sewing: 691\n",
      "count of finishing: 506\n"
     ]
    }
   ],
   "source": [
    "#4 Number count for sewing and finishing department\n",
    "sewing=len(df[df.department=='sewing'])\n",
    "finishing=len(df[df.department=='finishing'])\n",
    "# df.department.count()\n",
    "print(f'count of sewing: {sewing}')\n",
    "print(f'count of finishing: {finishing}')"
   ]
  },
  {
   "cell_type": "code",
   "execution_count": 17,
   "id": "787ab616",
   "metadata": {},
   "outputs": [
    {
     "name": "stdout",
     "output_type": "stream",
     "text": [
      "                mean       std\n",
      "department                    \n",
      "finishing   0.752951  0.197021\n",
      "sewing      0.722013  0.154784\n"
     ]
    },
    {
     "data": {
      "application/javascript": [
       "\n",
       "        if (window._pyforest_update_imports_cell) { window._pyforest_update_imports_cell('import seaborn as sns\\nimport pandas as pd'); }\n",
       "    "
      ],
      "text/plain": [
       "<IPython.core.display.Javascript object>"
      ]
     },
     "metadata": {},
     "output_type": "display_data"
    },
    {
     "data": {
      "text/plain": [
       "<Axes: xlabel='department', ylabel='actual_productivity'>"
      ]
     },
     "execution_count": 17,
     "metadata": {},
     "output_type": "execute_result"
    },
    {
     "data": {
      "image/png": "[encoded data removed]",
      "text/plain": [
       "<Figure size 640x480 with 1 Axes>"
      ]
     },
     "metadata": {},
     "output_type": "display_data"
    }
   ],
   "source": [
    "#5 Mean and standard deviation of actual producivity for sewing and finishing Histogram plot of actual productivity based on both department and conclusion accordingly\n",
    "data2=df.groupby('department')['actual_productivity'].agg(['mean', 'std'])\n",
    "print(data2)\n",
    "sns.histplot(data=df,x='department',y='actual_productivity',bins=10)"
   ]
  },
  {
   "cell_type": "code",
   "execution_count": 18,
   "id": "0b115fa2",
   "metadata": {},
   "outputs": [
    {
     "name": "stdout",
     "output_type": "stream",
     "text": [
      "count of team: 7693\n",
      "count of smv: 18029.420000000035\n"
     ]
    }
   ],
   "source": [
    "#6 Number count for teams, smv across the year\n",
    "count_team=sum(df.team)\n",
    "count_smv=sum(df.smv)\n",
    "# df.department.count()\n",
    "print(f'count of team: {count_team}')\n",
    "print(f'count of smv: {count_smv}')"
   ]
  },
  {
   "cell_type": "code",
   "execution_count": 25,
   "id": "e26330de",
   "metadata": {},
   "outputs": [
    {
     "data": {
      "application/javascript": [
       "\n",
       "        if (window._pyforest_update_imports_cell) { window._pyforest_update_imports_cell('import matplotlib.pyplot as plt\\nimport pandas as pd\\nimport seaborn as sns'); }\n",
       "    "
      ],
      "text/plain": [
       "<IPython.core.display.Javascript object>"
      ]
     },
     "metadata": {},
     "output_type": "display_data"
    },
    {
     "data": {
      "application/javascript": [
       "\n",
       "        if (window._pyforest_update_imports_cell) { window._pyforest_update_imports_cell('import matplotlib.pyplot as plt\\nimport pandas as pd\\nimport seaborn as sns'); }\n",
       "    "
      ],
      "text/plain": [
       "<IPython.core.display.Javascript object>"
      ]
     },
     "metadata": {},
     "output_type": "display_data"
    },
    {
     "data": {
      "application/javascript": [
       "\n",
       "        if (window._pyforest_update_imports_cell) { window._pyforest_update_imports_cell('import matplotlib.pyplot as plt\\nimport pandas as pd\\nimport seaborn as sns'); }\n",
       "    "
      ],
      "text/plain": [
       "<IPython.core.display.Javascript object>"
      ]
     },
     "metadata": {},
     "output_type": "display_data"
    },
    {
     "data": {
      "application/javascript": [
       "\n",
       "        if (window._pyforest_update_imports_cell) { window._pyforest_update_imports_cell('import matplotlib.pyplot as plt\\nimport pandas as pd\\nimport seaborn as sns'); }\n",
       "    "
      ],
      "text/plain": [
       "<IPython.core.display.Javascript object>"
      ]
     },
     "metadata": {},
     "output_type": "display_data"
    },
    {
     "data": {
      "application/javascript": [
       "\n",
       "        if (window._pyforest_update_imports_cell) { window._pyforest_update_imports_cell('import matplotlib.pyplot as plt\\nimport pandas as pd\\nimport seaborn as sns'); }\n",
       "    "
      ],
      "text/plain": [
       "<IPython.core.display.Javascript object>"
      ]
     },
     "metadata": {},
     "output_type": "display_data"
    },
    {
     "data": {
      "image/png": "[encoded data removed]",
      "text/plain": [
       "<Figure size 640x480 with 1 Axes>"
      ]
     },
     "metadata": {},
     "output_type": "display_data"
    },
    {
     "data": {
      "application/javascript": [
       "\n",
       "        if (window._pyforest_update_imports_cell) { window._pyforest_update_imports_cell('import matplotlib.pyplot as plt\\nimport pandas as pd\\nimport seaborn as sns'); }\n",
       "    "
      ],
      "text/plain": [
       "<IPython.core.display.Javascript object>"
      ]
     },
     "metadata": {},
     "output_type": "display_data"
    },
    {
     "data": {
      "application/javascript": [
       "\n",
       "        if (window._pyforest_update_imports_cell) { window._pyforest_update_imports_cell('import matplotlib.pyplot as plt\\nimport pandas as pd\\nimport seaborn as sns'); }\n",
       "    "
      ],
      "text/plain": [
       "<IPython.core.display.Javascript object>"
      ]
     },
     "metadata": {},
     "output_type": "display_data"
    },
    {
     "data": {
      "application/javascript": [
       "\n",
       "        if (window._pyforest_update_imports_cell) { window._pyforest_update_imports_cell('import matplotlib.pyplot as plt\\nimport pandas as pd\\nimport seaborn as sns'); }\n",
       "    "
      ],
      "text/plain": [
       "<IPython.core.display.Javascript object>"
      ]
     },
     "metadata": {},
     "output_type": "display_data"
    },
    {
     "data": {
      "application/javascript": [
       "\n",
       "        if (window._pyforest_update_imports_cell) { window._pyforest_update_imports_cell('import matplotlib.pyplot as plt\\nimport pandas as pd\\nimport seaborn as sns'); }\n",
       "    "
      ],
      "text/plain": [
       "<IPython.core.display.Javascript object>"
      ]
     },
     "metadata": {},
     "output_type": "display_data"
    },
    {
     "data": {
      "application/javascript": [
       "\n",
       "        if (window._pyforest_update_imports_cell) { window._pyforest_update_imports_cell('import matplotlib.pyplot as plt\\nimport pandas as pd\\nimport seaborn as sns'); }\n",
       "    "
      ],
      "text/plain": [
       "<IPython.core.display.Javascript object>"
      ]
     },
     "metadata": {},
     "output_type": "display_data"
    },
    {
     "data": {
      "application/javascript": [
       "\n",
       "        if (window._pyforest_update_imports_cell) { window._pyforest_update_imports_cell('import matplotlib.pyplot as plt\\nimport pandas as pd\\nimport seaborn as sns'); }\n",
       "    "
      ],
      "text/plain": [
       "<IPython.core.display.Javascript object>"
      ]
     },
     "metadata": {},
     "output_type": "display_data"
    },
    {
     "data": {
      "image/png": "[encoded data removed]",
      "text/plain": [
       "<Figure size 1200x600 with 1 Axes>"
      ]
     },
     "metadata": {},
     "output_type": "display_data"
    },
    {
     "data": {
      "application/javascript": [
       "\n",
       "        if (window._pyforest_update_imports_cell) { window._pyforest_update_imports_cell('import matplotlib.pyplot as plt\\nimport pandas as pd\\nimport seaborn as sns'); }\n",
       "    "
      ],
      "text/plain": [
       "<IPython.core.display.Javascript object>"
      ]
     },
     "metadata": {},
     "output_type": "display_data"
    },
    {
     "data": {
      "application/javascript": [
       "\n",
       "        if (window._pyforest_update_imports_cell) { window._pyforest_update_imports_cell('import matplotlib.pyplot as plt\\nimport pandas as pd\\nimport seaborn as sns'); }\n",
       "    "
      ],
      "text/plain": [
       "<IPython.core.display.Javascript object>"
      ]
     },
     "metadata": {},
     "output_type": "display_data"
    },
    {
     "data": {
      "application/javascript": [
       "\n",
       "        if (window._pyforest_update_imports_cell) { window._pyforest_update_imports_cell('import matplotlib.pyplot as plt\\nimport pandas as pd\\nimport seaborn as sns'); }\n",
       "    "
      ],
      "text/plain": [
       "<IPython.core.display.Javascript object>"
      ]
     },
     "metadata": {},
     "output_type": "display_data"
    },
    {
     "data": {
      "application/javascript": [
       "\n",
       "        if (window._pyforest_update_imports_cell) { window._pyforest_update_imports_cell('import matplotlib.pyplot as plt\\nimport pandas as pd\\nimport seaborn as sns'); }\n",
       "    "
      ],
      "text/plain": [
       "<IPython.core.display.Javascript object>"
      ]
     },
     "metadata": {},
     "output_type": "display_data"
    },
    {
     "data": {
      "application/javascript": [
       "\n",
       "        if (window._pyforest_update_imports_cell) { window._pyforest_update_imports_cell('import matplotlib.pyplot as plt\\nimport pandas as pd\\nimport seaborn as sns'); }\n",
       "    "
      ],
      "text/plain": [
       "<IPython.core.display.Javascript object>"
      ]
     },
     "metadata": {},
     "output_type": "display_data"
    },
    {
     "data": {
      "application/javascript": [
       "\n",
       "        if (window._pyforest_update_imports_cell) { window._pyforest_update_imports_cell('import matplotlib.pyplot as plt\\nimport pandas as pd\\nimport seaborn as sns'); }\n",
       "    "
      ],
      "text/plain": [
       "<IPython.core.display.Javascript object>"
      ]
     },
     "metadata": {},
     "output_type": "display_data"
    },
    {
     "data": {
      "image/png": "[encoded data removed]",
      "text/plain": [
       "<Figure size 1200x600 with 1 Axes>"
      ]
     },
     "metadata": {},
     "output_type": "display_data"
    },
    {
     "data": {
      "application/javascript": [
       "\n",
       "        if (window._pyforest_update_imports_cell) { window._pyforest_update_imports_cell('import matplotlib.pyplot as plt\\nimport pandas as pd\\nimport seaborn as sns'); }\n",
       "    "
      ],
      "text/plain": [
       "<IPython.core.display.Javascript object>"
      ]
     },
     "metadata": {},
     "output_type": "display_data"
    },
    {
     "data": {
      "application/javascript": [
       "\n",
       "        if (window._pyforest_update_imports_cell) { window._pyforest_update_imports_cell('import matplotlib.pyplot as plt\\nimport pandas as pd\\nimport seaborn as sns'); }\n",
       "    "
      ],
      "text/plain": [
       "<IPython.core.display.Javascript object>"
      ]
     },
     "metadata": {},
     "output_type": "display_data"
    },
    {
     "data": {
      "application/javascript": [
       "\n",
       "        if (window._pyforest_update_imports_cell) { window._pyforest_update_imports_cell('import matplotlib.pyplot as plt\\nimport pandas as pd\\nimport seaborn as sns'); }\n",
       "    "
      ],
      "text/plain": [
       "<IPython.core.display.Javascript object>"
      ]
     },
     "metadata": {},
     "output_type": "display_data"
    },
    {
     "data": {
      "application/javascript": [
       "\n",
       "        if (window._pyforest_update_imports_cell) { window._pyforest_update_imports_cell('import matplotlib.pyplot as plt\\nimport pandas as pd\\nimport seaborn as sns'); }\n",
       "    "
      ],
      "text/plain": [
       "<IPython.core.display.Javascript object>"
      ]
     },
     "metadata": {},
     "output_type": "display_data"
    },
    {
     "data": {
      "application/javascript": [
       "\n",
       "        if (window._pyforest_update_imports_cell) { window._pyforest_update_imports_cell('import matplotlib.pyplot as plt\\nimport pandas as pd\\nimport seaborn as sns'); }\n",
       "    "
      ],
      "text/plain": [
       "<IPython.core.display.Javascript object>"
      ]
     },
     "metadata": {},
     "output_type": "display_data"
    },
    {
     "data": {
      "application/javascript": [
       "\n",
       "        if (window._pyforest_update_imports_cell) { window._pyforest_update_imports_cell('import matplotlib.pyplot as plt\\nimport pandas as pd\\nimport seaborn as sns'); }\n",
       "    "
      ],
      "text/plain": [
       "<IPython.core.display.Javascript object>"
      ]
     },
     "metadata": {},
     "output_type": "display_data"
    },
    {
     "data": {
      "image/png": "[encoded data removed]",
      "text/plain": [
       "<Figure size 1200x600 with 1 Axes>"
      ]
     },
     "metadata": {},
     "output_type": "display_data"
    }
   ],
   "source": [
    "#7 Histogram & Box plot of actual productivity based on all working days, team size, quarterts and Conclude accordingly\n",
    "sns.histplot(data=df, x='actual_productivity', bins=10, kde=True)\n",
    "plt.title('Histogram of Actual Productivity')\n",
    "plt.xlabel('Actual Productivity')\n",
    "plt.ylabel('Frequency')\n",
    "plt.show()\n",
    "\n",
    "plt.figure(figsize=(12, 6))\n",
    "sns.boxplot(data=df, x='date', y='actual_productivity')\n",
    "plt.title('Actual Productivity by Quarter')\n",
    "plt.xlabel('Date')\n",
    "plt.ylabel('Actual Productivity')\n",
    "plt.show()\n",
    "\n",
    "plt.figure(figsize=(12, 6))\n",
    "sns.boxplot(data=df, x='team', y='actual_productivity')\n",
    "plt.title('Actual Productivity by Quarter')\n",
    "plt.xlabel('Team size')\n",
    "plt.ylabel('Actual Productivity')\n",
    "plt.show()\n",
    "\n",
    "plt.figure(figsize=(12, 6))\n",
    "sns.boxplot(data=df, x='quarter', y='actual_productivity')\n",
    "plt.title('Actual Productivity by Quarter')\n",
    "plt.xlabel('Quarter')\n",
    "plt.ylabel('Actual Productivity')\n",
    "plt.show()\n",
    "\n",
    "\n",
    "\n",
    "\n"
   ]
  },
  {
   "cell_type": "code",
   "execution_count": 21,
   "id": "fc931c0e",
   "metadata": {},
   "outputs": [
    {
     "name": "stderr",
     "output_type": "stream",
     "text": [
      "C:\\Users\\balur\\AppData\\Local\\Temp\\ipykernel_8904\\4207308704.py:2: FutureWarning: The default value of numeric_only in DataFrame.corr is deprecated. In a future version, it will default to False. Select only valid columns or specify the value of numeric_only to silence this warning.\n",
      "  co_rel=df.corr()\n"
     ]
    },
    {
     "data": {
      "application/javascript": [
       "\n",
       "        if (window._pyforest_update_imports_cell) { window._pyforest_update_imports_cell('import matplotlib.pyplot as plt\\nimport pandas as pd\\nimport seaborn as sns'); }\n",
       "    "
      ],
      "text/plain": [
       "<IPython.core.display.Javascript object>"
      ]
     },
     "metadata": {},
     "output_type": "display_data"
    },
    {
     "data": {
      "text/plain": [
       "<Axes: >"
      ]
     },
     "execution_count": 21,
     "metadata": {},
     "output_type": "execute_result"
    },
    {
     "data": {
      "image/png": "[encoded data removed]",
      "text/plain": [
       "<Figure size 640x480 with 2 Axes>"
      ]
     },
     "metadata": {},
     "output_type": "display_data"
    }
   ],
   "source": [
    "#8 Find correlation matrix and draw heat map for all variables\n",
    "co_rel=df.corr()\n",
    "sns.heatmap(co_rel)"
   ]
  },
  {
   "cell_type": "code",
   "execution_count": null,
   "id": "0d9b8267",
   "metadata": {},
   "outputs": [],
   "source": [
    "#9 Conclude (Is the company able to meet target, are they giving incentives based on producitivity, does overtime have any effect on productivity)\n",
    "t_stats,p_value=stats.ttest_1samp(df['actual_productivity']-df['targeted_productivity'],0)\n",
    "if p_value < 0.05:\n",
    "    print(\"The company does not meet its targets.\")\n",
    "else:\n",
    "    print(\"The company meets its targets.\")"
   ]
  },
  {
   "cell_type": "code",
   "execution_count": null,
   "id": "d641d2c0",
   "metadata": {},
   "outputs": [],
   "source": [
    "#10 Find the correlation between actual and target productivity for every quarter and for every department. What do you conclude\n",
    "\n",
    "correlation=df.groupby(['quarter','department'])['actual_productivity','targeted_productivity'].corr()\n",
    "print(correlation)"
   ]
  },
  {
   "cell_type": "code",
   "execution_count": null,
   "id": "3f83376a",
   "metadata": {},
   "outputs": [],
   "source": [
    "#11Based on the above details of EDA and Descriptive statisitcs analysis what would you say could be the possible factors which can affect producitivity."
   ]
  },
  {
   "cell_type": "markdown",
   "id": "f2dea8fc",
   "metadata": {},
   "source": [
    "Hypothesis Testing \n",
    "\n",
    "12. Test using Z test (take a random sample of more than 30 and assume sigma =.1) whether the finishing department has achieved more acheived producitivity than .75 for a standard deviation of .1. State your null and alternative hypothesis. alpha value is .05\n",
    "\n",
    "13. Test using Z test(take a random sample of more than 30 and assume sigma =.1) whether the sewing department has achieved more producitivit than .75 for a standard deviation of .1. State your null and alternative hypothesis. alpha value is .05.\n",
    "\n",
    "14. Conduct a two sample t test (take a random sample more than 30) to check whether the finishing department has achieved more actual productivtiy than sewing     department. State your null and alternative hypothesis \n",
    "\n",
    "15. Conduct a two sample t (take a random sample less than 30) test to check whether the finishing department has achieved obtained higher incentive than sewing department, state your null and alternative hypothesis. In case test fails for normality check, then take a sample more than 30. \n",
    "\n",
    "16. The manager has asked you to classifiy low productivity as less than .5, medium between .5 and less than .75 and higher\n",
    "    as greater than or equal to .75. He believes that the percentage of  actual producvity  in  sewing departemnt for   \n",
    "    person classified as low is 30%, for medium is 40% and for high is 30%. USing chi square test can you prove whether his \n",
    "    hypothesis is right or not \n",
    "\n",
    "17. Based on the EDA analysis the manager has decided to find out whether different quarters are having an impact on actual productivity. Assuming normality of data conduct an analysis accordingly Conduct an ANOVA for comparing productivity for Quarter1, Quarter2, Quarter3, Quarter 4 and accordingly conclude (Assume data is normally distributed)\n",
    "\n",
    "18. Based on the EDA analysis the manager has decided to find out whether different days  are having an impact on actual productivity. Assuming normality of data conduct an analysis accordingly Conduct an ANOVA for comparing productivity for Quarter1, Quarter2, Quarter3, Quarter 4 and accordingly conclude (Assume data is normally distributed)\n",
    "\n",
    "19. In case the manager is interested whether day and quarters have an impact on actual producitivity, provide an analysis and identify which factors play a role in affecting productivty\n",
    "\n",
    "20. Based on 17 eliminate one of the variabes which is not significant and reconduct analysis using deparment as another variable, what do you conclude.\n",
    "\n",
    "21. Based on EDA and Hypothesis would you aggree or disaggree with the finding, also in addition summarize the findings based on both analysis and provide a recommendation on what you can thinking on improving the producitivity. \n"
   ]
  },
  {
   "cell_type": "code",
   "execution_count": 207,
   "id": "a79f440c",
   "metadata": {},
   "outputs": [
    {
     "name": "stdout",
     "output_type": "stream",
     "text": [
      "Reject the null hypothesis: The finishing department has achieved more productivity than 0.75.\n"
     ]
    }
   ],
   "source": [
    "#12 Test using Z test (take a random sample of more than 30 and assume sigma =.1) whether the finishing department has achieved more acheived \n",
    "# producitivity than .75 for a standard deviation of .1.State your null and alternative hypothesis. alpha value is .05\n",
    "# H0<=.75\n",
    "# H1>.75\n",
    "sigma=0.1\n",
    "alpha=.05\n",
    "n=45\n",
    "std=0.1\n",
    "sample=df.sample(n=45,replace=False,random_state=10)\n",
    "s_mean = sample[sample['department'] == 'finishing']['actual_productivity'].mean()\n",
    "s_mean \n",
    "se=std/np.sqrt(n)\n",
    "z_stat=(s_mean-.75)/se\n",
    "critical_z=stats.norm.ppf(1-alpha)\n",
    "critical_z\n",
    "if z_stat > critical_z:\n",
    "    print(\"Reject the null hypothesis: The finishing department has achieved more productivity than 0.75.\")\n",
    "else:\n",
    "    print(\"Fail to reject the null hypothesis: There is not enough evidence to conclude that the finishing department has achieved more productivity than 0.75.\")\n",
    "\n",
    "# sample[sample.department=='finishing'].mean()"
   ]
  },
  {
   "cell_type": "code",
   "execution_count": 212,
   "id": "c324218b",
   "metadata": {},
   "outputs": [
    {
     "name": "stdout",
     "output_type": "stream",
     "text": [
      "Fail to reject the null hypothesis: There is not enough evidence to conclude that the finishing department has achieved more productivity than 0.75.\n"
     ]
    }
   ],
   "source": [
    "#13 Test using Z test(take a random sample of more than 30 and assume sigma =.1) whether the sewing department has achieved \n",
    "# more producitivit than .75 for a standard deviation of .1. State your null and alternative hypothesis. alpha value is .05.\n",
    "\n",
    "sigma=0.1\n",
    "alpha=.05\n",
    "n=45\n",
    "std=0.1\n",
    "sample=df.sample(n=45,replace=False,random_state=10)\n",
    "s_mean = sample[sample['department'] == 'sewing']['actual_productivity'].mean()\n",
    "s_mean \n",
    "se=std/np.sqrt(n)\n",
    "z_stat=(s_mean-.75)/se\n",
    "critical_z=stats.norm.ppf(1-alpha)\n",
    "critical_z\n",
    "if z_stat > critical_z:\n",
    "    print(\"Reject the null hypothesis: The finishing department has achieved more productivity than 0.75.\")\n",
    "else:\n",
    "    print(\"Fail to reject the null hypothesis: There is not enough evidence to conclude that the finishing department has achieved more productivity than 0.75.\")\n",
    "\n"
   ]
  },
  {
   "cell_type": "code",
   "execution_count": 230,
   "id": "eee7e80d",
   "metadata": {},
   "outputs": [
    {
     "name": "stdout",
     "output_type": "stream",
     "text": [
      "-0.2931759037547011 0.7700076132902217\n",
      "fail to reject null hypothesis\n"
     ]
    }
   ],
   "source": [
    "#14 Conduct a two sample t test (take a random sample more than 30) to check whether the finishing department has achieved \n",
    "# more actual productivtiy than sewing department.State your null and alternative hypothesis\n",
    "pop_finishing=df[df['department']=='finishing']['actual_productivity']\n",
    "pop_sweing=df[df['department']=='finishing']['actual_productivity']\n",
    "s_finishing=pop_finishing.sample(n=50,replace=False,random_state=20)\n",
    "s_sweing=pop_sweing.sample(n=50,replace=False,random_state=21)\n",
    "alpha=0.05\n",
    "t_stat,p_value=stats.ttest_ind(s_finishing,s_sweing)\n",
    "print(t_stat,p_value)\n",
    "\n",
    "if p_value<t_stat:\n",
    "    print('reject null hypothesis')\n",
    "else:\n",
    "    print('fail to reject null hypothesis')"
   ]
  },
  {
   "cell_type": "code",
   "execution_count": 49,
   "id": "66713691",
   "metadata": {},
   "outputs": [
    {
     "name": "stdout",
     "output_type": "stream",
     "text": [
      "test1:Ttest_indResult(statistic=-9.955442723567366, pvalue=0.9999999999999599)\n",
      "test2:Ttest_indResult(statistic=-0.15451255507348458, pvalue=0.5612383099231202)\n"
     ]
    }
   ],
   "source": [
    "#15 Conduct a two sample t (take a random sample less than 30) test to check whether the finishing department has achieved obtained higher incentive than sewing department, state your null and alternative hypothesis. \n",
    "# In case test fails for normality check, then take a sample more than 30.\n",
    "# h0<=mu\n",
    "# Ha>mu\n",
    "finishing_incentive=df[df['department']=='finishing']['incentive']\n",
    "sewing_incentive=df[df['department']=='sewing']['incentive']\n",
    "finshing_sample1=finishing_incentive.sample(n=28,replace=False)\n",
    "sewing_sample1=sewing_incentive.sample(n=28,replace=False)\n",
    "test1=stats.ttest_ind(finshing_sample1,sewing_sample1,alternative='greater')\n",
    "finshing_sample2=finishing_incentive.sample(n=50,replace=False)\n",
    "sewing_sample2=sewing_incentive.sample(n=50,replace=False)\n",
    "test2=stats.ttest_ind(finshing_sample2,sewing_sample2,alternative='greater')\n",
    "print(f'test1:{test1}')\n",
    "print(f'test2:{test2}')"
   ]
  },
  {
   "cell_type": "code",
   "execution_count": 54,
   "id": "adff4c92",
   "metadata": {},
   "outputs": [
    {
     "name": "stdout",
     "output_type": "stream",
     "text": [
      "Null Hypothesis (H0): The observed distribution matches the expected distribution.\n",
      "Alternative Hypothesis (H1): The observed distribution does not matches the expected distribution.\n",
      "Chi square value: 315.2952243125905\n",
      "P-value: 3.4238281264112183e-69\n",
      "Reject the null hypothesis.\n"
     ]
    }
   ],
   "source": [
    "#16\n",
    "\n",
    "\n",
    "import scipy.stats as stats\n",
    "\n",
    "print(\"Null Hypothesis (H0): The observed distribution matches the expected distribution.\")\n",
    "print(\"Alternative Hypothesis (H1): The observed distribution does not matches the expected distribution.\")\n",
    "\n",
    "sewing_department=df[df.department=='sewing']\n",
    "finishing_department=df[df.department=='finishing']\n",
    "\n",
    "observed = [len(sewing_department[sewing_department['actual_productivity'] < 0.5]),\n",
    "            len(sewing_department[(sewing_department['actual_productivity'] >= 0.5) & \n",
    "                                  (sewing_department['actual_productivity'] < 0.75)]),\n",
    "            len(sewing_department[sewing_department['actual_productivity'] >= 0.75])]\n",
    "\n",
    "expected = [0.3 * len(sewing_department), 0.4 * len(sewing_department), 0.3 * len(sewing_department)]\n",
    "\n",
    "chi_stat, p_val = stats.chisquare(f_obs=observed, f_exp=expected)\n",
    "\n",
    "print(\"Chi square value:\",chi_stat)\n",
    "print(\"P-value:\",p_val)\n",
    "\n",
    "alpha = 0.05\n",
    "\n",
    "if p_val < alpha:\n",
    "    print(\"Reject the null hypothesis.\")\n",
    "else:\n",
    "    print(\"Fail to reject (accept) the null hypothesis.\")"
   ]
  },
  {
   "cell_type": "code",
   "execution_count": 55,
   "id": "710b45b8",
   "metadata": {},
   "outputs": [
    {
     "name": "stdout",
     "output_type": "stream",
     "text": [
      "Null Hypothesis (H0): There is a significant difference in productivity among the quarters.\n",
      "Alternative Hypothesis (H1): There is no significant difference in productivity among the quarters.\n",
      "F-Statistic: 5.274463802636486\n",
      "p-value: 0.0012927759459059219\n",
      "Reject the null hypothesis.This indicates that there is a significant difference in productivity among different quarters.\n"
     ]
    }
   ],
   "source": [
    "#17\n",
    "\n",
    "\n",
    "print(\"Null Hypothesis (H0): There is a significant difference in productivity among the quarters.\")\n",
    "print(\"Alternative Hypothesis (H1): There is no significant difference in productivity among the quarters.\")\n",
    "quarter1 = df[df['quarter'] == 'Quarter1']['actual_productivity']\n",
    "quarter2 = df[df['quarter'] == 'Quarter2']['actual_productivity']\n",
    "quarter3 = df[df['quarter'] == 'Quarter3']['actual_productivity']\n",
    "quarter4 = df[df['quarter'] == 'Quarter4']['actual_productivity']\n",
    "\n",
    "f_statistic, p_value = stats.f_oneway(quarter1, quarter2, quarter3, quarter4)\n",
    "\n",
    "alpha = 0.05\n",
    "\n",
    "print(\"F-Statistic:\", f_statistic)\n",
    "print(\"p-value:\", p_value)\n",
    "\n",
    "if p_value < alpha:\n",
    "    print(\"Reject the null hypothesis.This indicates that there is a significant difference in \"\n",
    "          \"productivity among different quarters.\")\n",
    "else:\n",
    "    print(\"Fail to reject (accept) the null hypothesis.\")"
   ]
  },
  {
   "cell_type": "code",
   "execution_count": 56,
   "id": "f89b45aa",
   "metadata": {},
   "outputs": [
    {
     "name": "stdout",
     "output_type": "stream",
     "text": [
      "Null Hypothesis (H0): There is a significant difference in productivity across different days.\n",
      "Alternative Hypothesis (H1): There is no significant difference in productivity across different days.\n",
      "F-Statistic: 0.7121012009422417\n",
      "p-value: 0.614378842438619\n",
      "Fail to reject (accept) the null hypothesis.\n"
     ]
    }
   ],
   "source": [
    "#18\n",
    "\n",
    "\n",
    "print(\"Null Hypothesis (H0): There is a significant difference in productivity across different days.\")\n",
    "print(\"Alternative Hypothesis (H1): There is no significant difference in productivity across different days.\")\n",
    "# Create a list of arrays, each containing productivity values for a different day\n",
    "days = df['day'].unique()\n",
    "day_groups = [df[df['day'] == day]['actual_productivity'] for day in days]\n",
    "\n",
    "# Perform ANOVA\n",
    "f_statistic, p_value = stats.f_oneway(*day_groups)\n",
    "\n",
    "# Set significance level\n",
    "alpha = 0.05\n",
    "\n",
    "# Interpret the results\n",
    "print(\"F-Statistic:\", f_statistic)\n",
    "print(\"p-value:\", p_value)\n",
    "\n",
    "if p_value < alpha:\n",
    "    print(\"Reject the null hypothesis.\")\n",
    "else:\n",
    "    print(\"Fail to reject (accept) the null hypothesis.\")\n"
   ]
  },
  {
   "cell_type": "code",
   "execution_count": 57,
   "id": "82499496",
   "metadata": {},
   "outputs": [
    {
     "name": "stdout",
     "output_type": "stream",
     "text": [
      "               sum_sq      df         F    PR(>F)\n",
      "C(day)       0.091124     5.0  0.609830  0.692418\n",
      "C(quarter)   0.831338     4.0  6.954456  0.000016\n",
      "Residual    35.473578  1187.0       NaN       NaN\n"
     ]
    }
   ],
   "source": [
    "#19\n",
    "\n",
    "import statsmodels.api as sm\n",
    "from statsmodels.formula.api import ols\n",
    "\n",
    "# Conduct two-way ANOVA\n",
    "model = ols('actual_productivity ~ C(day) + C(quarter)', data=df).fit()\n",
    "anova_table = sm.stats.anova_lm(model, typ=2)\n",
    "\n",
    "print(anova_table)"
   ]
  },
  {
   "cell_type": "code",
   "execution_count": 58,
   "id": "c3143877",
   "metadata": {},
   "outputs": [
    {
     "name": "stdout",
     "output_type": "stream",
     "text": [
      "Null Hypothesis (H0): There is no significant interaction between Quarter and Department, and neither Quarter nor Department individually have a significant effect on productivity.\n",
      "Alternative Hypothesis (H1): At least one of Quarter and Department has a significant effect on productivity, and there is a significant interaction between Quarter and Department.\n",
      "                       sum_sq      df         F    PR(>F)\n",
      "quarter              0.827062     4.0  6.995282  0.000014\n",
      "department           0.257897     1.0  8.725141  0.003200\n",
      "quarter:department   0.221625     4.0  1.874499  0.112563\n",
      "Residual            35.085181  1187.0       NaN       NaN\n"
     ]
    }
   ],
   "source": [
    "#20\n",
    "\n",
    "import statsmodels.api as sm\n",
    "from statsmodels.formula.api import ols\n",
    "\n",
    "print(\"Null Hypothesis (H0): There is no significant interaction between Quarter and Department, and neither Quarter nor Department individually have a significant effect on productivity.\")\n",
    "print(\"Alternative Hypothesis (H1): At least one of Quarter and Department has a significant effect on productivity, and there is a significant interaction between Quarter and Department.\")\n",
    "\n",
    "model = ols('actual_productivity ~ quarter * department', data=df).fit()\n",
    "anova_table = sm.stats.anova_lm(model, typ=2)\n",
    "\n",
    "print(anova_table)"
   ]
  },
  {
   "cell_type": "markdown",
   "id": "1a69bda1",
   "metadata": {},
   "source": [
    "#21\n",
    "\n",
    "\n",
    "### Key Findings:\n",
    "\n",
    "### 1. Exploratory Data Analysis (EDA):\n",
    "\n",
    "   <li> Overtime appears to have a significant impact on productivity, as suggested by the correlation analysis.\n",
    "    <li> Incentives show a positive correlation with productivity, indicating that they may be given based on productivity levels.\n",
    "    <li> Department type (Sewing and Finishing) and team size (Team) can be factors influencing productivity.\n",
    "    <li> There are variations in productivity across different quarters, suggesting seasonal effects.\n",
    "    <li> Certain days of the week may also impact productivity.\n",
    "    <li> Additional factors like Standard Minute Value (SMV), Work in Progress (WIP), style changes, idle time, and idle workers should be further explored for their potential effects.\n",
    "    \n",
    "### 2. Hypothesis Testing: \n",
    "\n",
    "    The Z-tests and t-tests conducted for the sewing and finishing departments suggest that further analysis is needed to confirm whether these departments achieve higher productivity or incentives compared to the specified thresholds.\n",
    "\n",
    "### Conclusions:\n",
    "\n",
    "#### 1. Productivity Factors:\n",
    "    Overtime and incentives seem to play a significant role in productivity. Companies may consider optimizing overtime practices and incentive structures to enhance productivity.\n",
    "    \n",
    "#### 2. Seasonal and Day-of-Week Variations:\n",
    "    There are variations in productivity across quarters and days of the week. Identifying and addressing the underlying causes of these variations can lead to better resource allocation and scheduling.\n",
    "\n",
    "#### 3. Departmental Differences:\n",
    "    While there are indications of departmental differences, further analysis is required to confirm whether sewing or finishing departments achieve higher productivity or incentives. This analysis should consider the entire dataset and use appropriate statistical tests.\n",
    "    \n",
    "### Recommendations:\n",
    "\n",
    "1. Optimize Overtime: Examine the overtime practices and workload distribution to ensure that overtime is used effectively and does not lead to burnout or decreased productivity.\n",
    "\n",
    "2. Incentive Structure: Evaluate the incentive structure to align it with productivity goals. Ensure that incentives are motivating employees to perform at their best.\n",
    "\n",
    "3. Seasonal Planning: If seasonal effects are confirmed, adjust production and workforce planning to account for fluctuations in demand and productivity across quarters.\n",
    "\n",
    "4. Resource Allocation: Analyze the impact of team size, idle time, and idle workers on productivity. Optimize resource allocation based on actual demand.\n",
    "\n",
    "5. Continuous Monitoring: Implement a system for continuous monitoring and data-driven decision-making. Regularly assess the factors affecting productivity and adjust strategies accordingly.\n",
    "\n",
    "6. Further Departmental Analysis: Conduct a more comprehensive analysis of sewing and finishing departments to determine if they consistently meet productivity targets or if adjustments are needed.\n",
    "\n",
    "7. Training and Skill Enhancement: Provide training and skill enhancement programs for employees to improve efficiency and reduce idle time.\n",
    "\n",
    "8. Feedback Mechanism: Establish a feedback mechanism to collect insights and suggestions from employees on improving productivity.\n",
    "        \n",
    "\n",
    "In summary, a holistic approach to improving productivity should involve analyzing and addressing factors such as overtime, incentives, seasonality, departmental differences, and resource allocation. Continuous monitoring and data-driven decision-making are essential for sustained improvements."
   ]
  }
 ],
 "metadata": {
  "kernelspec": {
   "display_name": "Python 3 (ipykernel)",
   "language": "python",
   "name": "python3"
  },
  "language_info": {
   "codemirror_mode": {
    "name": "ipython",
    "version": 3
   },
   "file_extension": ".py",
   "mimetype": "text/x-python",
   "name": "python",
   "nbconvert_exporter": "python",
   "pygments_lexer": "ipython3",
   "version": "3.11.3"
  }
 },
 "nbformat": 4,
 "nbformat_minor": 5
}
